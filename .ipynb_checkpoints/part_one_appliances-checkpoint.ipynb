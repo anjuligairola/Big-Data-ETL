{
 "cells": [
  {
   "cell_type": "code",
   "execution_count": 51,
   "metadata": {
    "colab": {
     "base_uri": "https://localhost:8080/"
    },
    "id": "-8eFW_wl1n39",
    "outputId": "567f8dca-fbcc-406e-a448-2bb78e7b850b"
   },
   "outputs": [
    {
     "name": "stdout",
     "output_type": "stream",
     "text": [
      "\r",
      "0% [Working]\r",
      "            \r",
      "Hit:1 https://developer.download.nvidia.com/compute/cuda/repos/ubuntu2004/x86_64  InRelease\n",
      "Get:2 http://security.ubuntu.com/ubuntu focal-security InRelease [114 kB]\n",
      "Get:3 http://ppa.launchpad.net/c2d4u.team/c2d4u4.0+/ubuntu focal InRelease [18.1 kB]\n",
      "Hit:4 http://archive.ubuntu.com/ubuntu focal InRelease\n",
      "Get:5 http://archive.ubuntu.com/ubuntu focal-updates InRelease [114 kB]\n",
      "Hit:6 http://ppa.launchpad.net/cran/libgit2/ubuntu focal InRelease\n",
      "Hit:7 http://ppa.launchpad.net/deadsnakes/ppa/ubuntu focal InRelease\n",
      "Get:8 http://archive.ubuntu.com/ubuntu focal-backports InRelease [108 kB]\n",
      "Hit:9 http://ppa.launchpad.net/graphics-drivers/ppa/ubuntu focal InRelease\n",
      "Get:10 https://cloud.r-project.org/bin/linux/ubuntu focal-cran40/ InRelease [3,622 B]\n",
      "Hit:11 http://ppa.launchpad.net/ubuntugis/ppa/ubuntu focal InRelease\n",
      "Get:12 http://ppa.launchpad.net/c2d4u.team/c2d4u4.0+/ubuntu focal/main Sources [2,398 kB]\n",
      "Get:13 http://ppa.launchpad.net/c2d4u.team/c2d4u4.0+/ubuntu focal/main amd64 Packages [1,136 kB]\n",
      "Fetched 3,891 kB in 4s (962 kB/s)\n",
      "Reading package lists... Done\n"
     ]
    }
   ],
   "source": [
    "# Activate Spark in our Colab notebook.\n",
    "import os\n",
    "# Find the latest version of spark 3.2  from http://www.apache.org/dist/spark/ and enter as the spark version\n",
    "# For example:\n",
    "# spark_version = 'spark-3.2.3'\n",
    "spark_version = 'spark-3.2.3'\n",
    "os.environ['SPARK_VERSION']=spark_version\n",
    "\n",
    "# Install Spark and Java\n",
    "!apt-get update\n",
    "!apt-get install openjdk-11-jdk-headless -qq > /dev/null\n",
    "!wget -q http://www.apache.org/dist/spark/$SPARK_VERSION/$SPARK_VERSION-bin-hadoop2.7.tgz\n",
    "!tar xf $SPARK_VERSION-bin-hadoop2.7.tgz\n",
    "!pip install -q findspark\n",
    "\n",
    "# Set Environment Variables\n",
    "import os\n",
    "os.environ[\"JAVA_HOME\"] = \"/usr/lib/jvm/java-11-openjdk-amd64\"\n",
    "os.environ[\"SPARK_HOME\"] = f\"/content/{spark_version}-bin-hadoop2.7\"\n",
    "\n",
    "# Start a SparkSession\n",
    "import findspark\n",
    "findspark.init()"
   ]
  },
  {
   "cell_type": "code",
   "execution_count": 52,
   "metadata": {
    "colab": {
     "base_uri": "https://localhost:8080/"
    },
    "id": "BzCrgs0Z1rnw",
    "outputId": "b5a00d01-0169-4c11-adca-b5825d396b5f"
   },
   "outputs": [
    {
     "name": "stdout",
     "output_type": "stream",
     "text": [
      "--2023-03-17 07:05:38--  https://jdbc.postgresql.org/download/postgresql-42.2.9.jar\n",
      "Resolving jdbc.postgresql.org (jdbc.postgresql.org)... 72.32.157.228, 2001:4800:3e1:1::228\n",
      "Connecting to jdbc.postgresql.org (jdbc.postgresql.org)|72.32.157.228|:443... connected.\n",
      "HTTP request sent, awaiting response... 200 OK\n",
      "Length: 914037 (893K) [application/java-archive]\n",
      "Saving to: ‘postgresql-42.2.9.jar.3’\n",
      "\n",
      "postgresql-42.2.9.j 100%[===================>] 892.61K  4.44MB/s    in 0.2s    \n",
      "\n",
      "2023-03-17 07:05:38 (4.44 MB/s) - ‘postgresql-42.2.9.jar.3’ saved [914037/914037]\n",
      "\n"
     ]
    }
   ],
   "source": [
    "# Get postgresql package\n",
    "!wget https://jdbc.postgresql.org/download/postgresql-42.2.9.jar"
   ]
  },
  {
   "cell_type": "code",
   "execution_count": 53,
   "metadata": {
    "id": "0DuBth0V2PR8"
   },
   "outputs": [],
   "source": [
    "# Import Spark and create a SparkSession\n",
    "from pyspark.sql import SparkSession\n",
    "spark = SparkSession.builder.appName(\"BigData-HW-1\").config(\"spark.driver.extraClassPath\",\"/content/postgresql-42.2.9.jar\").getOrCreate()"
   ]
  },
  {
   "cell_type": "markdown",
   "metadata": {
    "id": "D3W2XJVi2CU-"
   },
   "source": [
    "# Extract the Amazon Data into Spark DataFrame"
   ]
  },
  {
   "cell_type": "code",
   "execution_count": 54,
   "metadata": {
    "colab": {
     "base_uri": "https://localhost:8080/"
    },
    "id": "Na_stw7b1wfU",
    "outputId": "db664f01-1633-402d-fe05-f9452a95ac91"
   },
   "outputs": [
    {
     "name": "stdout",
     "output_type": "stream",
     "text": [
      "+-----------+-----------+--------------+----------+--------------+--------------------+--------------------+-----------+-------------+-----------+----+-----------------+--------------------+--------------------+-----------+\n",
      "|marketplace|customer_id|     review_id|product_id|product_parent|       product_title|    product_category|star_rating|helpful_votes|total_votes|vine|verified_purchase|     review_headline|         review_body|review_date|\n",
      "+-----------+-----------+--------------+----------+--------------+--------------------+--------------------+-----------+-------------+-----------+----+-----------------+--------------------+--------------------+-----------+\n",
      "|         US|   32114233|R1QX6706ZWJ1P5|B00OYRW4UE|     223980852|Elite Sportz Exer...|Personal_Care_App...|          5|            0|          0|   N|                Y|Good quality. Shi...|Exactly as descri...| 2015-08-31|\n",
      "|         US|   18125776|R3QWMLJHIW6P37|B0000537JQ|     819771537|     Ezy Dose Weekly|Personal_Care_App...|          5|            0|          0|   N|                Y|          Five Stars|         It is great| 2015-08-31|\n",
      "|         US|   19917519|R14Z1VR1N0Z9G6|B00HXXO332|     849307176|Pulse Oximeter, B...|Personal_Care_App...|          5|            1|          1|   N|                Y|It's really nice ...|It's really nice ...| 2015-08-31|\n",
      "|         US|   18277171| R25ZRJL0GH0U0|B00EOB0JA2|     700864740|SE Tools Tool Kit...|Personal_Care_App...|          2|            0|          0|   N|                Y|           Two Stars|The kit works fin...| 2015-08-31|\n",
      "|         US|    2593270|R3837KYH7AZNIY|B00OC2O1UC|     794298839|doTERRA HD Clear ...|Personal_Care_App...|          4|            0|          1|   N|                Y|          Four Stars|It works better t...| 2015-08-31|\n",
      "|         US|    2592955|R2MN0QYCY6EVIV|B00HES9CMS|     318730927|Viva Naturals #1 ...|Personal_Care_App...|          5|            0|          0|   N|                Y|      not bad at all|I added to my oat...| 2015-08-31|\n",
      "|         US|   15168265|R3AN2UJ1D42ZS0|B0016BFR4G|     887476137|Uncle Lee's Organ...|Personal_Care_App...|          5|            0|          0|   N|                Y|Mild, enjoyable t...|Husband drinks th...| 2015-08-31|\n",
      "|         US|   13761624|R3U29ZLUWEEK4M|B00K504UUG|     458706868|Syrtenty Electrod...|Personal_Care_App...|          5|            0|          0|   N|                Y|          Five Stars|       Good quality.| 2015-08-31|\n",
      "|         US|   37070734|R16ZDMJJHK796C|B00HES9CMS|     318730927|Viva Naturals #1 ...|Personal_Care_App...|          5|            0|          0|   N|                N|        High Quality|This is high qual...| 2015-08-31|\n",
      "|         US|   29615023| RRRDOEJZD1Y22|B00P6TUO5G|     170248843|Viva Naturals Org...|Personal_Care_App...|          4|            0|          0|   N|                Y|          we like it|Buying more produ...| 2015-08-31|\n",
      "|         US|   47893062|R2KR5ZEAS859DK|B0006VJ6TO|     412568457|Body Back Company...|Personal_Care_App...|          5|            0|          0|   N|                Y|          Five Stars|    Their best cane.| 2015-08-31|\n",
      "|         US|    2582596| RR7PGQY763IHF|B00H9L7VIW|     851045898|boostULTIMATE - 6...|Personal_Care_App...|          5|            0|          0|   N|                Y|       Great product|Great product! Ma...| 2015-08-31|\n",
      "|         US|   21969415| RN37YYZBP9BMP|B00P1JNZUW|     274294586|doTERRA Veráge Sk...|Personal_Care_App...|          5|            4|          4|   N|                Y|Love the prouduct...|Love the prouduct...| 2015-08-31|\n",
      "|         US|   43153609| R1UXGB70OR5TW|B00N5HD340|     955577225|      Straight Razor|Personal_Care_App...|          5|            0|          0|   N|                Y|          Five Stars|          great buy.| 2015-08-31|\n",
      "|         US|   17782951|R1OC5ZNXSGO7P1|B0007DHMVK|      78719480|BONGER Massage To...|Personal_Care_App...|          5|            0|          0|   N|                Y|          Five stars|These are so much...| 2015-08-31|\n",
      "|         US|   13710264|R1W4ZN8BPVNWK3|B0002JG2NI|     900996767|Home Health Casto...|Personal_Care_App...|          5|            0|          0|   N|                Y|It works for home...|It works for home...| 2015-08-31|\n",
      "|         US|   30720884|R2KE33CNN5X2B0|B00OYRW4UE|     223980852|Elite Sportz Exer...|Personal_Care_App...|          5|            0|          0|   N|                Y|These work great ...|These work great ...| 2015-08-31|\n",
      "|         US|   35206254|R1A26EDSO0U5N6|B00598WT0C|     218203731|Aloha Eyewear “St...|Personal_Care_App...|          5|            0|          0|   N|                Y|             awesome|for anyone needin...| 2015-08-31|\n",
      "|         US|   10261156|R3L81GOHVS3E9P|B0006VJ6TO|     412568457|Body Back Company...|Personal_Care_App...|          5|            0|          0|   N|                Y| Deep tissue massage|This works perfec...| 2015-08-31|\n",
      "|         US|   50708344| RNFW9SWC5D0YF|B00J7G96NK|     256041044|Oral B Glide Flos...|Personal_Care_App...|          5|            2|          2|   N|                N|These are an esse...|Not only are thes...| 2015-08-31|\n",
      "+-----------+-----------+--------------+----------+--------------+--------------------+--------------------+-----------+-------------+-----------+----+-----------------+--------------------+--------------------+-----------+\n",
      "only showing top 20 rows\n",
      "\n"
     ]
    }
   ],
   "source": [
    "# Read in the data from an S3 Bucket\n",
    "from pyspark import SparkFiles\n",
    "url=\"https://s3.amazonaws.com/amazon-reviews-pds/tsv/amazon_reviews_us_Personal_Care_Appliances_v1_00.tsv.gz\"\n",
    "spark.sparkContext.addFile(url)\n",
    "appliances_data_df = spark.read.csv(SparkFiles.get(\"amazon_reviews_us_Personal_Care_Appliances_v1_00.tsv.gz\"), sep= ('\\t'), header=True, inferSchema=True)\n",
    "\n",
    "# Show DataFrame\n",
    "appliances_data_df.show()"
   ]
  },
  {
   "cell_type": "code",
   "execution_count": 55,
   "metadata": {
    "colab": {
     "base_uri": "https://localhost:8080/"
    },
    "id": "aEXIjqIE7NBc",
    "outputId": "53eda57a-a058-437e-f505-ac58a498d65c"
   },
   "outputs": [
    {
     "data": {
      "text/plain": [
       "['marketplace',\n",
       " 'customer_id',\n",
       " 'review_id',\n",
       " 'product_id',\n",
       " 'product_parent',\n",
       " 'product_title',\n",
       " 'product_category',\n",
       " 'star_rating',\n",
       " 'helpful_votes',\n",
       " 'total_votes',\n",
       " 'vine',\n",
       " 'verified_purchase',\n",
       " 'review_headline',\n",
       " 'review_body',\n",
       " 'review_date']"
      ]
     },
     "execution_count": 55,
     "metadata": {},
     "output_type": "execute_result"
    }
   ],
   "source": [
    "#check columns in dataframe\n",
    "column_names = appliances_data_df.columns\n",
    "column_names"
   ]
  },
  {
   "cell_type": "code",
   "execution_count": 56,
   "metadata": {
    "colab": {
     "base_uri": "https://localhost:8080/"
    },
    "id": "Cayz-3Q52IM3",
    "outputId": "f68d48a6-0a54-45fd-c5a7-3244aded62d3"
   },
   "outputs": [
    {
     "data": {
      "text/plain": [
       "85981"
      ]
     },
     "execution_count": 56,
     "metadata": {},
     "output_type": "execute_result"
    }
   ],
   "source": [
    "# Get the number of rows in the DataFrame.\n",
    "appliances_data_df.count()\n"
   ]
  },
  {
   "cell_type": "markdown",
   "metadata": {
    "id": "C9U0rkGZ2eu7"
   },
   "source": [
    "# Transform the Data"
   ]
  },
  {
   "cell_type": "markdown",
   "metadata": {
    "id": "dUoftWoKtM_c"
   },
   "source": [
    "## Create the \"review_id_table\"."
   ]
  },
  {
   "cell_type": "code",
   "execution_count": 57,
   "metadata": {
    "colab": {
     "base_uri": "https://localhost:8080/"
    },
    "id": "2tMYkSIk2d-m",
    "outputId": "02d1ded9-dd80-481a-843f-26064762c5f6"
   },
   "outputs": [
    {
     "name": "stdout",
     "output_type": "stream",
     "text": [
      "+--------------+-----------+----------+--------------+-----------+\n",
      "|     review_id|customer_id|product_id|product_parent|review_date|\n",
      "+--------------+-----------+----------+--------------+-----------+\n",
      "|R1QX6706ZWJ1P5|   32114233|B00OYRW4UE|     223980852| 2015-01-31|\n",
      "|R3QWMLJHIW6P37|   18125776|B0000537JQ|     819771537| 2015-01-31|\n",
      "|R14Z1VR1N0Z9G6|   19917519|B00HXXO332|     849307176| 2015-01-31|\n",
      "| R25ZRJL0GH0U0|   18277171|B00EOB0JA2|     700864740| 2015-01-31|\n",
      "|R3837KYH7AZNIY|    2593270|B00OC2O1UC|     794298839| 2015-01-31|\n",
      "|R2MN0QYCY6EVIV|    2592955|B00HES9CMS|     318730927| 2015-01-31|\n",
      "|R3AN2UJ1D42ZS0|   15168265|B0016BFR4G|     887476137| 2015-01-31|\n",
      "|R3U29ZLUWEEK4M|   13761624|B00K504UUG|     458706868| 2015-01-31|\n",
      "|R16ZDMJJHK796C|   37070734|B00HES9CMS|     318730927| 2015-01-31|\n",
      "| RRRDOEJZD1Y22|   29615023|B00P6TUO5G|     170248843| 2015-01-31|\n",
      "|R2KR5ZEAS859DK|   47893062|B0006VJ6TO|     412568457| 2015-01-31|\n",
      "| RR7PGQY763IHF|    2582596|B00H9L7VIW|     851045898| 2015-01-31|\n",
      "| RN37YYZBP9BMP|   21969415|B00P1JNZUW|     274294586| 2015-01-31|\n",
      "| R1UXGB70OR5TW|   43153609|B00N5HD340|     955577225| 2015-01-31|\n",
      "|R1OC5ZNXSGO7P1|   17782951|B0007DHMVK|      78719480| 2015-01-31|\n",
      "|R1W4ZN8BPVNWK3|   13710264|B0002JG2NI|     900996767| 2015-01-31|\n",
      "|R2KE33CNN5X2B0|   30720884|B00OYRW4UE|     223980852| 2015-01-31|\n",
      "|R1A26EDSO0U5N6|   35206254|B00598WT0C|     218203731| 2015-01-31|\n",
      "|R3L81GOHVS3E9P|   10261156|B0006VJ6TO|     412568457| 2015-01-31|\n",
      "| RNFW9SWC5D0YF|   50708344|B00J7G96NK|     256041044| 2015-01-31|\n",
      "+--------------+-----------+----------+--------------+-----------+\n",
      "only showing top 20 rows\n",
      "\n"
     ]
    }
   ],
   "source": [
    "from pyspark.sql.functions import to_date\n",
    "# Create the \"review_id_df\" DataFrame with the appropriate columns and data types.\n",
    "review_id_df = appliances_data_df.select(['review_id', 'customer_id','product_id','product_parent',to_date('review_date','yyyy-mm-dd').alias('review_date')])\n",
    "review_id_df.show() # will only show 20 rows\n"
   ]
  },
  {
   "cell_type": "code",
   "execution_count": 58,
   "metadata": {
    "colab": {
     "base_uri": "https://localhost:8080/"
    },
    "id": "Rg_x3sG7QXRq",
    "outputId": "5ed91955-c1aa-4156-f01b-d4c334dede5f"
   },
   "outputs": [
    {
     "data": {
      "text/plain": [
       "[('review_id', 'string'),\n",
       " ('customer_id', 'int'),\n",
       " ('product_id', 'string'),\n",
       " ('product_parent', 'int'),\n",
       " ('review_date', 'date')]"
      ]
     },
     "execution_count": 58,
     "metadata": {},
     "output_type": "execute_result"
    }
   ],
   "source": [
    "review_id_df.dtypes"
   ]
  },
  {
   "cell_type": "markdown",
   "metadata": {
    "id": "aAVCFjXhtXO8"
   },
   "source": [
    "## Create the \"products\" Table"
   ]
  },
  {
   "cell_type": "code",
   "execution_count": 59,
   "metadata": {
    "colab": {
     "base_uri": "https://localhost:8080/"
    },
    "id": "g9gTNhT62je4",
    "outputId": "0b650558-91d5-4419-a7a6-450886dc5104"
   },
   "outputs": [
    {
     "name": "stdout",
     "output_type": "stream",
     "text": [
      "+----------+--------------------+\n",
      "|product_id|       product_title|\n",
      "+----------+--------------------+\n",
      "|B00OYRW4UE|Elite Sportz Exer...|\n",
      "|B0000537JQ|     Ezy Dose Weekly|\n",
      "|B00HXXO332|Pulse Oximeter, B...|\n",
      "|B00EOB0JA2|SE Tools Tool Kit...|\n",
      "|B00OC2O1UC|doTERRA HD Clear ...|\n",
      "|B00HES9CMS|Viva Naturals #1 ...|\n",
      "|B0016BFR4G|Uncle Lee's Organ...|\n",
      "|B00K504UUG|Syrtenty Electrod...|\n",
      "|B00HES9CMS|Viva Naturals #1 ...|\n",
      "|B00P6TUO5G|Viva Naturals Org...|\n",
      "|B0006VJ6TO|Body Back Company...|\n",
      "|B00H9L7VIW|boostULTIMATE - 6...|\n",
      "|B00P1JNZUW|doTERRA Veráge Sk...|\n",
      "|B00N5HD340|      Straight Razor|\n",
      "|B0007DHMVK|BONGER Massage To...|\n",
      "|B0002JG2NI|Home Health Casto...|\n",
      "|B00OYRW4UE|Elite Sportz Exer...|\n",
      "|B00598WT0C|Aloha Eyewear “St...|\n",
      "|B0006VJ6TO|Body Back Company...|\n",
      "|B00J7G96NK|Oral B Glide Flos...|\n",
      "+----------+--------------------+\n",
      "only showing top 20 rows\n",
      "\n"
     ]
    }
   ],
   "source": [
    "# Create the \"products_df\" DataFrame that drops the duplicates in the \"product_id\" and \"product_title columns. \n",
    "products_df = appliances_data_df.select(['product_id', 'product_title'])\n",
    "products_df.show() # will only show 20 rows"
   ]
  },
  {
   "cell_type": "code",
   "execution_count": 60,
   "metadata": {
    "id": "EJgVxZJS4UKP"
   },
   "outputs": [],
   "source": [
    "#Drop duplicates\n",
    "products_df = products_df.drop_duplicates()"
   ]
  },
  {
   "cell_type": "markdown",
   "metadata": {
    "id": "LJHuZ9zut0e5"
   },
   "source": [
    "## Create the \"customers\" Table"
   ]
  },
  {
   "cell_type": "code",
   "execution_count": 61,
   "metadata": {
    "colab": {
     "base_uri": "https://localhost:8080/"
    },
    "id": "_pF2Vf3c2n2O",
    "outputId": "e104eb4e-e0be-4a17-e4d4-2362ff4a14dc"
   },
   "outputs": [
    {
     "name": "stdout",
     "output_type": "stream",
     "text": [
      "+-----------+-----+\n",
      "|customer_id|count|\n",
      "+-----------+-----+\n",
      "|   11160821|    1|\n",
      "|    1099354|    1|\n",
      "|   37200466|    1|\n",
      "|   31581262|    1|\n",
      "|   27596904|    1|\n",
      "|    2405598|    1|\n",
      "|   11229098|    1|\n",
      "|   17237226|    1|\n",
      "|   46000147|    1|\n",
      "|   15234640|    1|\n",
      "|   28937218|    1|\n",
      "|   43920023|    1|\n",
      "|   27954895|    1|\n",
      "|    8269764|    1|\n",
      "|   31689770|    1|\n",
      "|   30117841|    1|\n",
      "|   38591899|    1|\n",
      "|   24557051|    1|\n",
      "|    2780908|    1|\n",
      "|   32466409|    1|\n",
      "+-----------+-----+\n",
      "only showing top 20 rows\n",
      "\n"
     ]
    }
   ],
   "source": [
    "# Create the \"customers_df\" DataFrame that groups the data on the \"customer_id\" by the number of times a customer reviewed a product. \n",
    "customers_df = appliances_data_df.groupby('customer_id').count()\n",
    "customers_df.show()"
   ]
  },
  {
   "cell_type": "markdown",
   "metadata": {
    "id": "8SbTasxbuXGK"
   },
   "source": [
    "## Create the \"vine_table\"."
   ]
  },
  {
   "cell_type": "code",
   "execution_count": 62,
   "metadata": {
    "colab": {
     "base_uri": "https://localhost:8080/"
    },
    "id": "WHQKbmCE2p3Q",
    "outputId": "f00a816d-0186-4690-d387-52f728dad87e"
   },
   "outputs": [
    {
     "name": "stdout",
     "output_type": "stream",
     "text": [
      "+--------------+-----------+-------------+-----------+----+\n",
      "|     review_id|star_rating|helpful_votes|total_votes|vine|\n",
      "+--------------+-----------+-------------+-----------+----+\n",
      "|R1QX6706ZWJ1P5|          5|            0|          0|   N|\n",
      "|R3QWMLJHIW6P37|          5|            0|          0|   N|\n",
      "|R14Z1VR1N0Z9G6|          5|            1|          1|   N|\n",
      "| R25ZRJL0GH0U0|          2|            0|          0|   N|\n",
      "|R3837KYH7AZNIY|          4|            0|          1|   N|\n",
      "|R2MN0QYCY6EVIV|          5|            0|          0|   N|\n",
      "|R3AN2UJ1D42ZS0|          5|            0|          0|   N|\n",
      "|R3U29ZLUWEEK4M|          5|            0|          0|   N|\n",
      "|R16ZDMJJHK796C|          5|            0|          0|   N|\n",
      "| RRRDOEJZD1Y22|          4|            0|          0|   N|\n",
      "+--------------+-----------+-------------+-----------+----+\n",
      "only showing top 10 rows\n",
      "\n"
     ]
    }
   ],
   "source": [
    "# Create the \"vine_df\" DataFrame that has the \"review_id\", \"star_rating\", \"helpful_votes\", \"total_votes\", and \"vine\" columns. \n",
    "vine_df= appliances_data_df.select(['review_id', 'star_rating','helpful_votes','total_votes','vine'])\n",
    "vine_df.show(10)"
   ]
  },
  {
   "cell_type": "markdown",
   "metadata": {
    "id": "I8aTsEjZ2s6L"
   },
   "source": [
    "# Load"
   ]
  },
  {
   "cell_type": "code",
   "execution_count": 64,
   "metadata": {
    "id": "W4dzUKfI2vXM"
   },
   "outputs": [],
   "source": [
    "mode = \"append\"\n",
    "jdbc_url=\"jdbc:postgresql://postgres.ccxnnnes366j.us-east-2.rds.amazonaws.com:5432/my_data_class_db\"\n",
    "config = {\"user\":\"root\", \n",
    "          \"password\": \"******\", \n",
    "          \"driver\":\"org.postgresql.Driver\"}"
   ]
  },
  {
   "cell_type": "code",
   "execution_count": 65,
   "metadata": {
    "id": "iOxKqMsD2yVs"
   },
   "outputs": [],
   "source": [
    "# Write review_id_df to table in RDS\n",
    "review_id_df.write.jdbc(url=jdbc_url, table='review_id', mode=mode, properties=config)"
   ]
  },
  {
   "cell_type": "code",
   "execution_count": 66,
   "metadata": {
    "id": "pPXyGVE-2yPJ"
   },
   "outputs": [],
   "source": [
    "# Write products_df to table in RDS\n",
    "products_df.write.jdbc(url=jdbc_url, table='products', mode=mode, properties=config)"
   ]
  },
  {
   "cell_type": "code",
   "execution_count": 67,
   "metadata": {
    "id": "aHbca4zN2yIa"
   },
   "outputs": [],
   "source": [
    "# Write customers_df to table in RDS\n",
    "customers_df.write.jdbc(url=jdbc_url, table='customers', mode=mode, properties=config)"
   ]
  },
  {
   "cell_type": "code",
   "execution_count": 68,
   "metadata": {
    "id": "2HfOFneW2x_F"
   },
   "outputs": [],
   "source": [
    "# Write vine_df to table in RDS\n",
    "vine_df.write.jdbc(url=jdbc_url, table='vine', mode=mode, properties=config)"
   ]
  }
 ],
 "metadata": {
  "colab": {
   "provenance": []
  },
  "kernelspec": {
   "display_name": "Python 3 (ipykernel)",
   "language": "python",
   "name": "python3"
  },
  "language_info": {
   "codemirror_mode": {
    "name": "ipython",
    "version": 3
   },
   "file_extension": ".py",
   "mimetype": "text/x-python",
   "name": "python",
   "nbconvert_exporter": "python",
   "pygments_lexer": "ipython3",
   "version": "3.7.7"
  }
 },
 "nbformat": 4,
 "nbformat_minor": 1
}
